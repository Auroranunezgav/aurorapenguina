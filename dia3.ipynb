{
 "cells": [
  {
   "cell_type": "code",
   "execution_count": 54,
   "id": "6f6692d9",
   "metadata": {},
   "outputs": [
    {
     "name": "stdout",
     "output_type": "stream",
     "text": [
      "huevo\n"
     ]
    }
   ],
   "source": [
    "def imprimir():\n",
    "    variable = 'huevo'\n",
    "    print(variable)\n",
    "imprimir()\n"
   ]
  },
  {
   "cell_type": "code",
   "execution_count": 21,
   "id": "4b3625c2",
   "metadata": {},
   "outputs": [
    {
     "name": "stdout",
     "output_type": "stream",
     "text": [
      "las letras son diferentes\n"
     ]
    }
   ],
   "source": [
    "letra1 = input('escribi una letra')\n",
    "letra2 = input('escriba otra letra')\n",
    "def comparar_letras(letra1, letra2):\n",
    "    if letra1 == letra2:\n",
    "        print('las letras son iguales')\n",
    "    else:\n",
    "        print ('las letras son diferentes')\n",
    "\n",
    "comparar_letras(letra1,letra2)"
   ]
  },
  {
   "cell_type": "code",
   "execution_count": 33,
   "id": "d5059742",
   "metadata": {},
   "outputs": [
    {
     "data": {
      "text/plain": [
       "False"
      ]
     },
     "execution_count": 33,
     "metadata": {},
     "output_type": "execute_result"
    }
   ],
   "source": [
    "def comparar (palabra, numero):\n",
    "    if len(palabra) == numero:\n",
    "        return True\n",
    "    else:\n",
    "        return False\n",
    "palabra1 = input('Favor insertar una palabra')\n",
    "numero = int (input('Insertar numero'))\n",
    "\n",
    "comparar(palabra1, numero)"
   ]
  },
  {
   "cell_type": "code",
   "execution_count": 38,
   "id": "0d14d702",
   "metadata": {},
   "outputs": [
    {
     "name": "stdout",
     "output_type": "stream",
     "text": [
      "[['h', 'o', 'l', 'a']]\n",
      "[['h', 'o', 'l', 'a'], ['c', 'o', 'm', 'o', ' ']]\n",
      "[['h', 'o', 'l', 'a'], ['c', 'o', 'm', 'o', ' '], ['e', 's', 't', 'a', 's']]\n"
     ]
    }
   ],
   "source": [
    "palabras_ingresadas = []\n",
    "\n",
    "for i in range(3):\n",
    "    palabra = input(\"Ingresa una palabra: \")\n",
    "    lista_caracteres = list(palabra)\n",
    "    palabras_ingresadas.append(lista_caracteres)\n",
    "    print(palabras_ingresadas)"
   ]
  },
  {
   "cell_type": "code",
   "execution_count": 39,
   "id": "84119b04",
   "metadata": {},
   "outputs": [
    {
     "name": "stdout",
     "output_type": "stream",
     "text": [
      "[['j', 'o', 'l', 'a']]\n",
      "[['j', 'o', 'l', 'a'], ['c', 'o', 'm', 'o', ' ']]\n",
      "[['j', 'o', 'l', 'a'], ['c', 'o', 'm', 'o', ' '], ['e', 's', 't', 'a', 's']]\n"
     ]
    }
   ],
   "source": [
    "palabras_ingresadas = []\n",
    "\n",
    "def Conteo():\n",
    "\n",
    "    Palabra_ingresada_usuario = input(\"Pon una palabra\")\n",
    "    palabra_descompuesta = list(Palabra_ingresada_usuario)\n",
    "    palabras_ingresadas.append(palabra_descompuesta)\n",
    "    print(palabras_ingresadas)\n",
    "\n",
    "Conteo()\n",
    "Conteo()\n",
    "Conteo()"
   ]
  },
  {
   "cell_type": "code",
   "execution_count": null,
   "id": "434b746d",
   "metadata": {},
   "outputs": [],
   "source": []
  },
  {
   "cell_type": "code",
   "execution_count": 69,
   "id": "89504db7",
   "metadata": {},
   "outputs": [
    {
     "ename": "SyntaxError",
     "evalue": "expected ':' (3029633568.py, line 9)",
     "output_type": "error",
     "traceback": [
      "  \u001b[36mCell\u001b[39m\u001b[36m \u001b[39m\u001b[32mIn[69]\u001b[39m\u001b[32m, line 9\u001b[39m\n\u001b[31m    \u001b[39m\u001b[31melif letras_verificadas.append(f\"palabras_ingresadas + (posicion)\")\u001b[39m\n                                                                       ^\n\u001b[31mSyntaxError\u001b[39m\u001b[31m:\u001b[39m expected ':'\n"
     ]
    }
   ],
   "source": [
    "def obtener_lista_verificada(palabra_a_encontrar, palabras_ingresadas):\n",
    "    cantidad_de_letras_de_palabras_a_encontrar = 5 \n",
    "    letras_verificadas = []\n",
    "    for posicion in range(cantidad_de_letras_de_palabras_a_encontrar):\n",
    "        las_letras_son_iguales = palabra_a_encontrar[posicion] == palabras_ingresadas[posicion]\n",
    "        la_letra_existe_en_la_palabra = palabras_ingresadas [posicion] in palabra_a_encontrar\n",
    "        if las_letras_son_iguales:\n",
    "            letras_verificadas.append('[+ pabrabra_ingresada [posicion] +]')\n",
    "        elif letras_verificadas.append(f\"palabras_ingresadas + (posicion)\")\n",
    "        \n",
    "return letras_verificadas"
   ]
  },
  {
   "cell_type": "code",
   "execution_count": null,
   "id": "94cf7c48",
   "metadata": {},
   "outputs": [],
   "source": []
  },
  {
   "cell_type": "code",
   "execution_count": 72,
   "id": "ba0efaa0",
   "metadata": {},
   "outputs": [
    {
     "name": "stdout",
     "output_type": "stream",
     "text": [
      "Inciando\n"
     ]
    },
    {
     "ename": "IndexError",
     "evalue": "list index out of range",
     "output_type": "error",
     "traceback": [
      "\u001b[31m---------------------------------------------------------------------------\u001b[39m",
      "\u001b[31mIndexError\u001b[39m                                Traceback (most recent call last)",
      "\u001b[36mCell\u001b[39m\u001b[36m \u001b[39m\u001b[32mIn[72]\u001b[39m\u001b[32m, line 15\u001b[39m\n\u001b[32m     13\u001b[39m \u001b[38;5;28;01melse\u001b[39;00m:\n\u001b[32m     14\u001b[39m     \u001b[38;5;28;01mfor\u001b[39;00m posicion \u001b[38;5;129;01min\u001b[39;00m \u001b[38;5;28mrange\u001b[39m(cantidad_de_letras):\n\u001b[32m---> \u001b[39m\u001b[32m15\u001b[39m         \u001b[38;5;28;01mif\u001b[39;00m palabra_a_encontrar[posicion]==\u001b[43mpalabra_ingresada\u001b[49m\u001b[43m[\u001b[49m\u001b[43mposicion\u001b[49m\u001b[43m]\u001b[49m:\n\u001b[32m     16\u001b[39m             letra_acertada=(\u001b[33m'\u001b[39m\u001b[33m[\u001b[39m\u001b[33m'\u001b[39m + palabra_ingresada[posicion]+ \u001b[33m'\u001b[39m\u001b[33m]\u001b[39m\u001b[33m'\u001b[39m)\n\u001b[32m     17\u001b[39m             palabra_ingresada[posicion]=letra_acertada\n",
      "\u001b[31mIndexError\u001b[39m: list index out of range"
     ]
    }
   ],
   "source": [
    "print('Inciando')\n",
    "\n",
    "palabra_a_encontrar=list('python')\n",
    "cantidad_de_letras=len(palabra_a_encontrar)\n",
    "intentos=5\n",
    "grilla_vacia=[]\n",
    "\n",
    "while intentos>0:\n",
    "    palabra_ingresada=list(input('Ingrese su palabra'))\n",
    "    if palabra_a_encontrar == palabra_ingresada:\n",
    "        print('Acertaste')\n",
    "        break\n",
    "    else:\n",
    "        for posicion in range(cantidad_de_letras):\n",
    "            if palabra_a_encontrar[posicion]==palabra_ingresada[posicion]:\n",
    "                letra_acertada=('[' + palabra_ingresada[posicion]+ ']')\n",
    "                palabra_ingresada[posicion]=letra_acertada\n",
    "                grilla_vacia.append(palabra_ingresada)\n",
    "        for iterador_palabra_ingresada in palabra_ingresada:\n",
    "            if iterador_palabra_ingresada in palabra_a_encontrar:\n",
    "                letra_existe=('(' + palabra_ingresada[iterador_palabra_ingresada]+ ')') \n",
    "                palabra_ingresada[iterador_palabra_ingresada]=letra_existe\n",
    "                grilla_vacia.append(palabra_ingresada)\n",
    "        intentos-=1\n",
    "        print(f'te quedan {intentos} intentos')\n",
    "        for i in grilla_vacia:\n",
    "            print(i)"
   ]
  },
  {
   "cell_type": "code",
   "execution_count": 75,
   "id": "052f8b1c",
   "metadata": {},
   "outputs": [
    {
     "name": "stdout",
     "output_type": "stream",
     "text": [
      "Inciando\n",
      "te quedan 4 intentos\n",
      "['[p]', '[y]', '(h)', '(t)', '[o]', '[n]']\n",
      "te quedan 3 intentos\n",
      "['[p]', '[y]', '(h)', '(t)', '[o]', '[n]']\n",
      "['[p]', '[y]', '[t]', '(o)', '(h)', '(h)']\n",
      "te quedan 2 intentos\n",
      "['[p]', '[y]', '(h)', '(t)', '[o]', '[n]']\n",
      "['[p]', '[y]', '[t]', '(o)', '(h)', '(h)']\n",
      "['a', 's', '(h)', 'k', 'c', 'f', 's', 'n', 'd', 'v']\n",
      "te quedan 1 intentos\n",
      "['[p]', '[y]', '(h)', '(t)', '[o]', '[n]']\n",
      "['[p]', '[y]', '[t]', '(o)', '(h)', '(h)']\n",
      "['a', 's', '(h)', 'k', 'c', 'f', 's', 'n', 'd', 'v']\n",
      "['j', 'b', 'v', 'j', 'k', 'd', 's']\n",
      "te quedan 0 intentos\n",
      "['[p]', '[y]', '(h)', '(t)', '[o]', '[n]']\n",
      "['[p]', '[y]', '[t]', '(o)', '(h)', '(h)']\n",
      "['a', 's', '(h)', 'k', 'c', 'f', 's', 'n', 'd', 'v']\n",
      "['j', 'b', 'v', 'j', 'k', 'd', 's']\n",
      "['b', 'j', 's', 'c', 'f', 'v', 's', 'd']\n"
     ]
    }
   ],
   "source": [
    "#Saludo de bienvenida\n",
    "print('Inciando')\n",
    "\n",
    "palabra_a_encontrar=list('python')\n",
    "cantidad_de_letras=len(palabra_a_encontrar)\n",
    "intentos=5\n",
    "grilla_vacia=[]\n",
    "\n",
    "while intentos>0:\n",
    "    palabra_ingresada=list(input('Ingrese su palabra'))\n",
    "    if palabra_a_encontrar == palabra_ingresada:\n",
    "        print(f'Acertaste la palabra era {palabra_a_encontrar}')\n",
    "        break\n",
    "    else:\n",
    "        for posicion in range(cantidad_de_letras):\n",
    "            if palabra_a_encontrar[posicion]==palabra_ingresada[posicion]:\n",
    "                letra_acertada=('[' + palabra_ingresada[posicion]+ ']')\n",
    "                palabra_ingresada[posicion]=letra_acertada\n",
    "\n",
    "        for posicion in range(cantidad_de_letras):\n",
    "            if palabra_ingresada[posicion] in palabra_a_encontrar:\n",
    "                letra_existe=('(' + palabra_ingresada[posicion]+ ')') \n",
    "                palabra_ingresada[posicion]=letra_existe\n",
    "        grilla_vacia.append(palabra_ingresada)\n",
    "        intentos-=1\n",
    "        print(f'te quedan {intentos} intentos')\n",
    "        for i in grilla_vacia:\n",
    "            print(i)"
   ]
  },
  {
   "cell_type": "code",
   "execution_count": null,
   "id": "489bb36f",
   "metadata": {},
   "outputs": [],
   "source": []
  },
  {
   "cell_type": "code",
   "execution_count": null,
   "id": "91138b61",
   "metadata": {},
   "outputs": [],
   "source": [
    "def obtener_lista_verificada(palabra_a_encontrar, palabras_ingresadas):\n",
    "    cantidad_de_letras_de_palabras_a_encontrar = 5 \n",
    "    letras_verificadas = []\n",
    "    for posicion in range(cantidad_de_letras_de_palabras_a_encontrar):\n",
    "        las_letras_son_iguales = palabra_a_encontrar[posicion] == palabras_ingresadas[posicion]\n",
    "        la_letra_existe_en_la_palabra = palabras_ingresadas[posicion] in palabra_a_encontrar\n",
    "        if las_letras_son_iguales:\n",
    "            letras_verificadas.append(f\"[{palabras_ingresadas[posicion]}]\")\n",
    "        elif la_letra_existe_en_la_palabra:\n",
    "            letras_verificadas.append(f\"({palabras_ingresadas[posicion]})\")\n",
    "        else:\n",
    "            letras_verificadas.append(palabras_ingresadas[posicion])\n",
    "\n",
    "    return letras_verificadas"
   ]
  },
  {
   "cell_type": "code",
   "execution_count": 42,
   "id": "a1056567",
   "metadata": {},
   "outputs": [
    {
     "ename": "NameError",
     "evalue": "name 'obtener_lista_verificada' is not defined",
     "output_type": "error",
     "traceback": [
      "\u001b[31m---------------------------------------------------------------------------\u001b[39m",
      "\u001b[31mNameError\u001b[39m                                 Traceback (most recent call last)",
      "\u001b[36mCell\u001b[39m\u001b[36m \u001b[39m\u001b[32mIn[42]\u001b[39m\u001b[32m, line 4\u001b[39m\n\u001b[32m      1\u001b[39m palabra_a_encontrar = (\u001b[33m'\u001b[39m\u001b[33mhuevo\u001b[39m\u001b[33m'\u001b[39m)\n\u001b[32m      2\u001b[39m palabras_ingresadas = \u001b[38;5;28minput\u001b[39m(\u001b[33m'\u001b[39m\u001b[33mingrese una palabra de 5 letras\u001b[39m\u001b[33m'\u001b[39m)\n\u001b[32m----> \u001b[39m\u001b[32m4\u001b[39m linea_verificada = \u001b[43mobtener_lista_verificada\u001b[49m (palabra_a_encontrar, palabras_ingresadas)\n\u001b[32m      5\u001b[39m \u001b[38;5;28mprint\u001b[39m(linea_verificada)\n",
      "\u001b[31mNameError\u001b[39m: name 'obtener_lista_verificada' is not defined"
     ]
    }
   ],
   "source": [
    "palabra_a_encontrar = ('huevo')\n",
    "palabras_ingresadas = input('ingrese una palabra de 5 letras')\n",
    "\n",
    "linea_verificada = obtener_lista_verificada (palabra_a_encontrar, palabras_ingresadas)\n",
    "print(linea_verificada)"
   ]
  },
  {
   "cell_type": "code",
   "execution_count": null,
   "id": "bb342a43",
   "metadata": {},
   "outputs": [],
   "source": []
  },
  {
   "cell_type": "code",
   "execution_count": 49,
   "id": "02fe05f2",
   "metadata": {},
   "outputs": [
    {
     "name": "stdout",
     "output_type": "stream",
     "text": [
      "['h', 'o', 'l', 'i', 's']\n",
      "['h', 'e', 'l', 'l', 'o']\n",
      "['h', 'a', 'l', 'l', 'o']\n"
     ]
    }
   ],
   "source": [
    "lista = [['h', 'o', 'l', 'i', 's'], ['h', 'e', 'l', 'l', 'o'], ['h', 'a', 'l', 'l', 'o']]\n",
    "def enlistador():\n",
    "    for fila in lista:\n",
    "        print(fila)\n",
    "enlistador()\n"
   ]
  },
  {
   "cell_type": "code",
   "execution_count": 51,
   "id": "026a7ad7",
   "metadata": {},
   "outputs": [
    {
     "name": "stdout",
     "output_type": "stream",
     "text": [
      "te quedan 3 intentos\n",
      "te quedan 2 intentos\n",
      "te quedan 1 intentos\n",
      "te quedaste sin intentos\n"
     ]
    }
   ],
   "source": [
    "intentos = 3\n",
    "while intentos > 0:\n",
    "    print(f'te quedan {intentos} intentos')\n",
    "    palabra = input ('ingrese la palabra')\n",
    "    intentos = intentos - 1\n",
    "print('te quedaste sin intentos')"
   ]
  },
  {
   "cell_type": "code",
   "execution_count": null,
   "id": "ffaa3af5",
   "metadata": {},
   "outputs": [],
   "source": [
    "# Iniciar juego\n",
    "Definir palabra_a_encontrar\n",
    "Definir cantidad_de_letras\n",
    "Definir intentos\n",
    "Crear grilla vacia (lista para mostrar el progreso del jugador)\n",
    "Mostrar mensaje de bienvenida\n",
    "\n",
    "\n",
    "def imprimir():\n",
    "    variable = 'penguin'\n",
    "    print(variable)\n",
    "imprimir()\n"
   ]
  }
 ],
 "metadata": {
  "kernelspec": {
   "display_name": "Python 3",
   "language": "python",
   "name": "python3"
  },
  "language_info": {
   "codemirror_mode": {
    "name": "ipython",
    "version": 3
   },
   "file_extension": ".py",
   "mimetype": "text/x-python",
   "name": "python",
   "nbconvert_exporter": "python",
   "pygments_lexer": "ipython3",
   "version": "3.13.3"
  }
 },
 "nbformat": 4,
 "nbformat_minor": 5
}
