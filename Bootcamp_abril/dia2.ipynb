{
 "cells": [
  {
   "cell_type": "code",
   "execution_count": 5,
   "id": "d699d876",
   "metadata": {},
   "outputs": [
    {
     "name": "stdout",
     "output_type": "stream",
     "text": [
      "trabajador\n"
     ]
    }
   ],
   "source": [
    "edad_individuo = 56\n",
    "if edad_individuo <18:\n",
    "    print('estudiante')\n",
    "elif edad_individuo > 65:\n",
    "    print('jubilado')\n",
    "else:\n",
    "    print('trabajador')"
   ]
  },
  {
   "cell_type": "code",
   "execution_count": 25,
   "id": "5ba624e5",
   "metadata": {},
   "outputs": [
    {
     "name": "stdout",
     "output_type": "stream",
     "text": [
      "Podes tomar pero no comprar\n"
     ]
    }
   ],
   "source": [
    "edad_usuario = int(input('ingresa tu edad'))\n",
    "if edad_usuario <18:\n",
    "    print(\"Podes tomar pero no comprar\")\n",
    "elif edad_usuario >21:\n",
    "    print ('Hace lo que quieras')\n",
    "else:\n",
    "    print('Podes tomar pero no comprar')\n"
   ]
  },
  {
   "cell_type": "code",
   "execution_count": 28,
   "id": "cc669346",
   "metadata": {},
   "outputs": [
    {
     "name": "stdout",
     "output_type": "stream",
     "text": [
      "Ñamano mbae'e\n"
     ]
    }
   ],
   "source": [
    "temperatura = int(input('ingresar temperatura'))\n",
    "if temperatura <= -10 and temperatura >=18:\n",
    "    print('Fresquete')\n",
    "elif temperatura <= 19 and temperatura >=30:\n",
    "    print(\"Calor'i\")\n",
    "elif temperatura <= 31 and temperatura >=45:\n",
    "    print(\"Hakuuuuuu\")\n",
    "else:\n",
    "    print(\"Ñamano mbae'e\")\n",
    "\n"
   ]
  },
  {
   "cell_type": "code",
   "execution_count": 30,
   "id": "fb3e81cc",
   "metadata": {},
   "outputs": [
    {
     "name": "stdout",
     "output_type": "stream",
     "text": [
      "numero correcto\n"
     ]
    },
    {
     "ename": "ValueError",
     "evalue": "invalid literal for int() with base 10: ''",
     "output_type": "error",
     "traceback": [
      "\u001b[31m---------------------------------------------------------------------------\u001b[39m",
      "\u001b[31mValueError\u001b[39m                                Traceback (most recent call last)",
      "\u001b[36mCell\u001b[39m\u001b[36m \u001b[39m\u001b[32mIn[30]\u001b[39m\u001b[32m, line 4\u001b[39m\n\u001b[32m      2\u001b[39m numero = \u001b[32m3\u001b[39m\n\u001b[32m      3\u001b[39m \u001b[38;5;28;01mwhile\u001b[39;00m numero != numero_a_adivinar:\n\u001b[32m----> \u001b[39m\u001b[32m4\u001b[39m     numero = \u001b[38;5;28;43mint\u001b[39;49m\u001b[43m(\u001b[49m\u001b[38;5;28;43minput\u001b[39;49m\u001b[43m(\u001b[49m\u001b[33;43m'\u001b[39;49m\u001b[33;43mintroduce un numero\u001b[39;49m\u001b[33;43m'\u001b[39;49m\u001b[43m)\u001b[49m\u001b[43m)\u001b[49m\n\u001b[32m      5\u001b[39m     \u001b[38;5;28mprint\u001b[39m (\u001b[33m'\u001b[39m\u001b[33mnumero correcto\u001b[39m\u001b[33m'\u001b[39m)\n",
      "\u001b[31mValueError\u001b[39m: invalid literal for int() with base 10: ''"
     ]
    }
   ],
   "source": [
    "\n",
    "numero_a_adivinar = 10\n",
    "numero = 3\n",
    "while numero != numero_a_adivinar:\n",
    "    numero = int(input('introduce un numero'))\n",
    "    print ('numero correcto')"
   ]
  },
  {
   "cell_type": "code",
   "execution_count": 39,
   "id": "d8e4b4ee",
   "metadata": {},
   "outputs": [
    {
     "name": "stdout",
     "output_type": "stream",
     "text": [
      "el numero es correcto\n"
     ]
    }
   ],
   "source": [
    "\n",
    "while True:\n",
    "    numero = 4567\n",
    "    contrasena_ingresada = int(input('introduci tu contrasena'))\n",
    "    if contrasena_ingresada == numero:\n",
    "        print('el numero es correcto')\n",
    "        break\n",
    "    else:\n",
    "        print('Contrasena incorrecta')"
   ]
  },
  {
   "cell_type": "code",
   "execution_count": null,
   "id": "d09c4f91",
   "metadata": {},
   "outputs": [],
   "source": [
    "lista_frutas = ['pera', 'manzana', 'banana']"
   ]
  },
  {
   "cell_type": "code",
   "execution_count": 44,
   "id": "6929c726",
   "metadata": {},
   "outputs": [
    {
     "name": "stdout",
     "output_type": "stream",
     "text": [
      "['vera', 'mendez', 'montiel', 'gavilan', 'gomez', 'ramirez']\n",
      "['vera', 'mendez', 'gonzalez', 'gavilan', 'gomez', 'ramirez']\n",
      "['vera', 'gonzalez', 'gavilan', 'gomez', 'ramirez']\n",
      "['vera', 'gonzalez', 'gavilan', 'ramirez']\n"
     ]
    },
    {
     "data": {
      "text/plain": [
       "4"
      ]
     },
     "execution_count": 44,
     "metadata": {},
     "output_type": "execute_result"
    }
   ],
   "source": [
    "lista_apellidos = ['vera', 'mendez', 'montiel', 'gavilan', 'gomez']\n",
    "lista_apellidos.append('ramirez')\n",
    "print (lista_apellidos)\n",
    "\n",
    "lista_apellidos[2] = 'gonzalez'\n",
    "print (lista_apellidos)\n",
    "lista_apellidos.remove('mendez')\n",
    "print (lista_apellidos)\n",
    "lista_apellidos.pop(3)\n",
    "print(lista_apellidos)\n",
    "len(lista_apellidos)\n",
    "\n"
   ]
  }
 ],
 "metadata": {
  "kernelspec": {
   "display_name": "Python 3",
   "language": "python",
   "name": "python3"
  },
  "language_info": {
   "codemirror_mode": {
    "name": "ipython",
    "version": 3
   },
   "file_extension": ".py",
   "mimetype": "text/x-python",
   "name": "python",
   "nbconvert_exporter": "python",
   "pygments_lexer": "ipython3",
   "version": "3.13.3"
  }
 },
 "nbformat": 4,
 "nbformat_minor": 5
}
